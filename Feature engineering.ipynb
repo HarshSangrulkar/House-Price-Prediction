{
 "cells": [
  {
   "cell_type": "code",
   "execution_count": 1,
   "metadata": {
    "colab": {},
    "colab_type": "code",
    "id": "uyT6jwZdSUDk"
   },
   "outputs": [],
   "source": [
    "import numpy as np\n",
    "import pandas as pd\n",
    "import matplotlib.pyplot as plt\n",
    "plt.style.use('dark_background')\n",
    "import warnings\n",
    "warnings.filterwarnings(action = 'ignore')"
   ]
  },
  {
   "cell_type": "code",
   "execution_count": 2,
   "metadata": {
    "colab": {},
    "colab_type": "code",
    "id": "qSnHuS_TywL_"
   },
   "outputs": [],
   "source": [
    "import numpy as np\n",
    "import pandas as pd\n",
    "import matplotlib.pyplot as plt"
   ]
  },
  {
   "cell_type": "code",
   "execution_count": 3,
   "metadata": {
    "colab": {
     "base_uri": "https://localhost:8080/",
     "height": 496
    },
    "colab_type": "code",
    "executionInfo": {
     "elapsed": 1327,
     "status": "ok",
     "timestamp": 1569225986416,
     "user": {
      "displayName": "Sharoon Saxena",
      "photoUrl": "https://lh3.googleusercontent.com/a-/AAuE7mA06b2KEfgpAIC1tQCip2ka2KqXrCY2GfWW9Fww=s64",
      "userId": "01167841530696023488"
     },
     "user_tz": -330
    },
    "id": "enwfCDn9SUDm",
    "outputId": "c4a14501-f283-4631-9154-89bd9a5ca660"
   },
   "outputs": [
    {
     "data": {
      "text/html": [
       "<div>\n",
       "<style scoped>\n",
       "    .dataframe tbody tr th:only-of-type {\n",
       "        vertical-align: middle;\n",
       "    }\n",
       "\n",
       "    .dataframe tbody tr th {\n",
       "        vertical-align: top;\n",
       "    }\n",
       "\n",
       "    .dataframe thead th {\n",
       "        text-align: right;\n",
       "    }\n",
       "</style>\n",
       "<table border=\"1\" class=\"dataframe\">\n",
       "  <thead>\n",
       "    <tr style=\"text-align: right;\">\n",
       "      <th></th>\n",
       "      <th>ID</th>\n",
       "      <th>Date House was Sold</th>\n",
       "      <th>Sale Price</th>\n",
       "      <th>No of Bedrooms</th>\n",
       "      <th>No of Bathrooms</th>\n",
       "      <th>Flat Area (in Sqft)</th>\n",
       "      <th>Lot Area (in Sqft)</th>\n",
       "      <th>No of Floors</th>\n",
       "      <th>Waterfront View</th>\n",
       "      <th>No of Times Visited</th>\n",
       "      <th>...</th>\n",
       "      <th>Overall Grade</th>\n",
       "      <th>Area of the House from Basement (in Sqft)</th>\n",
       "      <th>Basement Area (in Sqft)</th>\n",
       "      <th>Age of House (in Years)</th>\n",
       "      <th>Renovated Year</th>\n",
       "      <th>Zipcode</th>\n",
       "      <th>Latitude</th>\n",
       "      <th>Longitude</th>\n",
       "      <th>Living Area after Renovation (in Sqft)</th>\n",
       "      <th>Lot Area after Renovation (in Sqft)</th>\n",
       "    </tr>\n",
       "  </thead>\n",
       "  <tbody>\n",
       "    <tr>\n",
       "      <th>0</th>\n",
       "      <td>7129300520</td>\n",
       "      <td>14 October 2017</td>\n",
       "      <td>221900.0</td>\n",
       "      <td>3</td>\n",
       "      <td>1.00</td>\n",
       "      <td>1180.0</td>\n",
       "      <td>5650.0</td>\n",
       "      <td>1.0</td>\n",
       "      <td>No</td>\n",
       "      <td>None</td>\n",
       "      <td>...</td>\n",
       "      <td>7</td>\n",
       "      <td>1180.0</td>\n",
       "      <td>0</td>\n",
       "      <td>63</td>\n",
       "      <td>0</td>\n",
       "      <td>98178.0</td>\n",
       "      <td>47.5112</td>\n",
       "      <td>-122.257</td>\n",
       "      <td>1340.0</td>\n",
       "      <td>5650</td>\n",
       "    </tr>\n",
       "    <tr>\n",
       "      <th>1</th>\n",
       "      <td>6414100192</td>\n",
       "      <td>14 December 2017</td>\n",
       "      <td>538000.0</td>\n",
       "      <td>3</td>\n",
       "      <td>2.25</td>\n",
       "      <td>2570.0</td>\n",
       "      <td>7242.0</td>\n",
       "      <td>2.0</td>\n",
       "      <td>No</td>\n",
       "      <td>None</td>\n",
       "      <td>...</td>\n",
       "      <td>7</td>\n",
       "      <td>2170.0</td>\n",
       "      <td>400</td>\n",
       "      <td>67</td>\n",
       "      <td>1991</td>\n",
       "      <td>98125.0</td>\n",
       "      <td>47.7210</td>\n",
       "      <td>-122.319</td>\n",
       "      <td>1690.0</td>\n",
       "      <td>7639</td>\n",
       "    </tr>\n",
       "    <tr>\n",
       "      <th>2</th>\n",
       "      <td>5631500400</td>\n",
       "      <td>15 February 2016</td>\n",
       "      <td>180000.0</td>\n",
       "      <td>2</td>\n",
       "      <td>1.00</td>\n",
       "      <td>770.0</td>\n",
       "      <td>10000.0</td>\n",
       "      <td>1.0</td>\n",
       "      <td>No</td>\n",
       "      <td>None</td>\n",
       "      <td>...</td>\n",
       "      <td>6</td>\n",
       "      <td>770.0</td>\n",
       "      <td>0</td>\n",
       "      <td>85</td>\n",
       "      <td>0</td>\n",
       "      <td>98028.0</td>\n",
       "      <td>47.7379</td>\n",
       "      <td>-122.233</td>\n",
       "      <td>2720.0</td>\n",
       "      <td>8062</td>\n",
       "    </tr>\n",
       "    <tr>\n",
       "      <th>3</th>\n",
       "      <td>2487200875</td>\n",
       "      <td>14 December 2017</td>\n",
       "      <td>604000.0</td>\n",
       "      <td>4</td>\n",
       "      <td>3.00</td>\n",
       "      <td>1960.0</td>\n",
       "      <td>5000.0</td>\n",
       "      <td>1.0</td>\n",
       "      <td>No</td>\n",
       "      <td>None</td>\n",
       "      <td>...</td>\n",
       "      <td>7</td>\n",
       "      <td>1050.0</td>\n",
       "      <td>910</td>\n",
       "      <td>53</td>\n",
       "      <td>0</td>\n",
       "      <td>98136.0</td>\n",
       "      <td>47.5208</td>\n",
       "      <td>-122.393</td>\n",
       "      <td>1360.0</td>\n",
       "      <td>5000</td>\n",
       "    </tr>\n",
       "    <tr>\n",
       "      <th>4</th>\n",
       "      <td>1954400510</td>\n",
       "      <td>15 February 2016</td>\n",
       "      <td>510000.0</td>\n",
       "      <td>3</td>\n",
       "      <td>2.00</td>\n",
       "      <td>1680.0</td>\n",
       "      <td>8080.0</td>\n",
       "      <td>1.0</td>\n",
       "      <td>No</td>\n",
       "      <td>None</td>\n",
       "      <td>...</td>\n",
       "      <td>8</td>\n",
       "      <td>1680.0</td>\n",
       "      <td>0</td>\n",
       "      <td>31</td>\n",
       "      <td>0</td>\n",
       "      <td>98074.0</td>\n",
       "      <td>47.6168</td>\n",
       "      <td>-122.045</td>\n",
       "      <td>1800.0</td>\n",
       "      <td>7503</td>\n",
       "    </tr>\n",
       "  </tbody>\n",
       "</table>\n",
       "<p>5 rows × 21 columns</p>\n",
       "</div>"
      ],
      "text/plain": [
       "           ID Date House was Sold  Sale Price  No of Bedrooms  \\\n",
       "0  7129300520     14 October 2017    221900.0               3   \n",
       "1  6414100192    14 December 2017    538000.0               3   \n",
       "2  5631500400    15 February 2016    180000.0               2   \n",
       "3  2487200875    14 December 2017    604000.0               4   \n",
       "4  1954400510    15 February 2016    510000.0               3   \n",
       "\n",
       "   No of Bathrooms  Flat Area (in Sqft)  Lot Area (in Sqft)  No of Floors  \\\n",
       "0             1.00               1180.0              5650.0           1.0   \n",
       "1             2.25               2570.0              7242.0           2.0   \n",
       "2             1.00                770.0             10000.0           1.0   \n",
       "3             3.00               1960.0              5000.0           1.0   \n",
       "4             2.00               1680.0              8080.0           1.0   \n",
       "\n",
       "  Waterfront View No of Times Visited  ... Overall Grade  \\\n",
       "0              No                None  ...             7   \n",
       "1              No                None  ...             7   \n",
       "2              No                None  ...             6   \n",
       "3              No                None  ...             7   \n",
       "4              No                None  ...             8   \n",
       "\n",
       "   Area of the House from Basement (in Sqft)  Basement Area (in Sqft)  \\\n",
       "0                                     1180.0                        0   \n",
       "1                                     2170.0                      400   \n",
       "2                                      770.0                        0   \n",
       "3                                     1050.0                      910   \n",
       "4                                     1680.0                        0   \n",
       "\n",
       "   Age of House (in Years)  Renovated Year  Zipcode  Latitude  Longitude  \\\n",
       "0                       63               0  98178.0   47.5112   -122.257   \n",
       "1                       67            1991  98125.0   47.7210   -122.319   \n",
       "2                       85               0  98028.0   47.7379   -122.233   \n",
       "3                       53               0  98136.0   47.5208   -122.393   \n",
       "4                       31               0  98074.0   47.6168   -122.045   \n",
       "\n",
       "   Living Area after Renovation (in Sqft)  Lot Area after Renovation (in Sqft)  \n",
       "0                                  1340.0                                 5650  \n",
       "1                                  1690.0                                 7639  \n",
       "2                                  2720.0                                 8062  \n",
       "3                                  1360.0                                 5000  \n",
       "4                                  1800.0                                 7503  \n",
       "\n",
       "[5 rows x 21 columns]"
      ]
     },
     "execution_count": 3,
     "metadata": {},
     "output_type": "execute_result"
    }
   ],
   "source": [
    "Housing3 = pd.read_csv('Raw_Housing_Prices3.csv')\n",
    "Housing3.head()"
   ]
  },
  {
   "cell_type": "code",
   "execution_count": 4,
   "metadata": {
    "colab": {
     "base_uri": "https://localhost:8080/",
     "height": 34
    },
    "colab_type": "code",
    "executionInfo": {
     "elapsed": 764,
     "status": "ok",
     "timestamp": 1569225986417,
     "user": {
      "displayName": "Sharoon Saxena",
      "photoUrl": "https://lh3.googleusercontent.com/a-/AAuE7mA06b2KEfgpAIC1tQCip2ka2KqXrCY2GfWW9Fww=s64",
      "userId": "01167841530696023488"
     },
     "user_tz": -330
    },
    "id": "yqBZP7NLcFaZ",
    "outputId": "583cdeb8-9c2b-44f7-88a5-084a9affca0b"
   },
   "outputs": [
    {
     "data": {
      "text/plain": [
       "0"
      ]
     },
     "execution_count": 4,
     "metadata": {},
     "output_type": "execute_result"
    }
   ],
   "source": [
    "sum(Housing3.isnull().sum())"
   ]
  },
  {
   "cell_type": "markdown",
   "metadata": {
    "colab_type": "text",
    "id": "2jNf-2JSdeaP"
   },
   "source": [
    "## Feature Transformation"
   ]
  },
  {
   "cell_type": "code",
   "execution_count": 5,
   "metadata": {
    "colab": {
     "base_uri": "https://localhost:8080/",
     "height": 754
    },
    "colab_type": "code",
    "executionInfo": {
     "elapsed": 2149,
     "status": "ok",
     "timestamp": 1569225989856,
     "user": {
      "displayName": "Sharoon Saxena",
      "photoUrl": "https://lh3.googleusercontent.com/a-/AAuE7mA06b2KEfgpAIC1tQCip2ka2KqXrCY2GfWW9Fww=s64",
      "userId": "01167841530696023488"
     },
     "user_tz": -330
    },
    "id": "_ul_5NGseHqC",
    "outputId": "f2002ace-c4fa-4f6d-c3e6-d12f8ad0188e"
   },
   "outputs": [
    {
     "data": {
      "image/png": "[encoded data removed]",
      "text/plain": [
       "<Figure size 1200x840 with 1 Axes>"
      ]
     },
     "metadata": {},
     "output_type": "display_data"
    }
   ],
   "source": [
    "plt.figure( figsize = (10,7), dpi = 120)\n",
    "plt.hist(Housing3['Flat Area (in Sqft)'], bins = 150, color = 'red')\n",
    "plt.xlabel('Flat Area')\n",
    "plt.ylabel('frequency')\n",
    "plt.title('Distribution of Flat Area')\n",
    "plt.show()"
   ]
  },
  {
   "cell_type": "code",
   "execution_count": 6,
   "metadata": {
    "colab": {},
    "colab_type": "code",
    "id": "BkxAQDWJh9St"
   },
   "outputs": [],
   "source": [
    "def log_transform(sample_Housing3):\n",
    "  return np.log(sample_Housing3)"
   ]
  },
  {
   "cell_type": "code",
   "execution_count": 7,
   "metadata": {
    "colab": {},
    "colab_type": "code",
    "id": "R0S197NtfY9J"
   },
   "outputs": [],
   "source": [
    "Housing3['Transformed Flat Area'] = Housing3['Flat Area (in Sqft)'].map(log_transform)"
   ]
  },
  {
   "cell_type": "code",
   "execution_count": 8,
   "metadata": {
    "colab": {
     "base_uri": "https://localhost:8080/",
     "height": 754
    },
    "colab_type": "code",
    "executionInfo": {
     "elapsed": 2991,
     "status": "ok",
     "timestamp": 1569225994366,
     "user": {
      "displayName": "Sharoon Saxena",
      "photoUrl": "https://lh3.googleusercontent.com/a-/AAuE7mA06b2KEfgpAIC1tQCip2ka2KqXrCY2GfWW9Fww=s64",
      "userId": "01167841530696023488"
     },
     "user_tz": -330
    },
    "id": "SZDVdMC_LJki",
    "outputId": "27c884ff-dfdc-4586-d0c2-31d09badf566"
   },
   "outputs": [
    {
     "data": {
      "image/png": "[encoded data removed]",
      "text/plain": [
       "<Figure size 1200x840 with 1 Axes>"
      ]
     },
     "metadata": {},
     "output_type": "display_data"
    }
   ],
   "source": [
    "plt.figure( figsize = (10,7), dpi = 120)\n",
    "plt.hist(Housing3['Transformed Flat Area'], bins = 150, color = 'red')\n",
    "plt.xlabel('Flat Area')\n",
    "plt.ylabel('frequency')\n",
    "plt.title('Distribution of Flat Area')\n",
    "plt.show()"
   ]
  },
  {
   "cell_type": "markdown",
   "metadata": {
    "colab_type": "text",
    "id": "VSEwE8BsdifI"
   },
   "source": [
    "## Dummy/One Hot Encoding"
   ]
  },
  {
   "cell_type": "code",
   "execution_count": 9,
   "metadata": {
    "colab": {
     "base_uri": "https://localhost:8080/",
     "height": 34
    },
    "colab_type": "code",
    "executionInfo": {
     "elapsed": 1119,
     "status": "ok",
     "timestamp": 1569225996818,
     "user": {
      "displayName": "Sharoon Saxena",
      "photoUrl": "https://lh3.googleusercontent.com/a-/AAuE7mA06b2KEfgpAIC1tQCip2ka2KqXrCY2GfWW9Fww=s64",
      "userId": "01167841530696023488"
     },
     "user_tz": -330
    },
    "id": "BTjq3y4tdhaF",
    "outputId": "8050ed26-25b7-4eac-f50f-fd8e3c3f6d09"
   },
   "outputs": [
    {
     "data": {
      "text/plain": [
       "array(['Fair', 'Excellent', 'Good', 'Bad', 'Okay'], dtype=object)"
      ]
     },
     "execution_count": 9,
     "metadata": {},
     "output_type": "execute_result"
    }
   ],
   "source": [
    "Housing3['Condition of the House'].unique()"
   ]
  },
  {
   "cell_type": "code",
   "execution_count": 10,
   "metadata": {
    "colab": {
     "base_uri": "https://localhost:8080/",
     "height": 204
    },
    "colab_type": "code",
    "executionInfo": {
     "elapsed": 1206,
     "status": "ok",
     "timestamp": 1569226000304,
     "user": {
      "displayName": "Sharoon Saxena",
      "photoUrl": "https://lh3.googleusercontent.com/a-/AAuE7mA06b2KEfgpAIC1tQCip2ka2KqXrCY2GfWW9Fww=s64",
      "userId": "01167841530696023488"
     },
     "user_tz": -330
    },
    "id": "fomB-JRELQQD",
    "outputId": "cacc724d-fa05-4de8-cd98-ba4c8f7ede05"
   },
   "outputs": [
    {
     "data": {
      "text/html": [
       "<div>\n",
       "<style scoped>\n",
       "    .dataframe tbody tr th:only-of-type {\n",
       "        vertical-align: middle;\n",
       "    }\n",
       "\n",
       "    .dataframe tbody tr th {\n",
       "        vertical-align: top;\n",
       "    }\n",
       "\n",
       "    .dataframe thead th {\n",
       "        text-align: right;\n",
       "    }\n",
       "</style>\n",
       "<table border=\"1\" class=\"dataframe\">\n",
       "  <thead>\n",
       "    <tr style=\"text-align: right;\">\n",
       "      <th></th>\n",
       "      <th>Condition_Excellent</th>\n",
       "      <th>Condition_Fair</th>\n",
       "      <th>Condition_Good</th>\n",
       "      <th>Condition_Okay</th>\n",
       "    </tr>\n",
       "  </thead>\n",
       "  <tbody>\n",
       "    <tr>\n",
       "      <th>0</th>\n",
       "      <td>0</td>\n",
       "      <td>1</td>\n",
       "      <td>0</td>\n",
       "      <td>0</td>\n",
       "    </tr>\n",
       "    <tr>\n",
       "      <th>1</th>\n",
       "      <td>0</td>\n",
       "      <td>1</td>\n",
       "      <td>0</td>\n",
       "      <td>0</td>\n",
       "    </tr>\n",
       "    <tr>\n",
       "      <th>2</th>\n",
       "      <td>0</td>\n",
       "      <td>1</td>\n",
       "      <td>0</td>\n",
       "      <td>0</td>\n",
       "    </tr>\n",
       "    <tr>\n",
       "      <th>3</th>\n",
       "      <td>1</td>\n",
       "      <td>0</td>\n",
       "      <td>0</td>\n",
       "      <td>0</td>\n",
       "    </tr>\n",
       "    <tr>\n",
       "      <th>4</th>\n",
       "      <td>0</td>\n",
       "      <td>1</td>\n",
       "      <td>0</td>\n",
       "      <td>0</td>\n",
       "    </tr>\n",
       "  </tbody>\n",
       "</table>\n",
       "</div>"
      ],
      "text/plain": [
       "   Condition_Excellent  Condition_Fair  Condition_Good  Condition_Okay\n",
       "0                    0               1               0               0\n",
       "1                    0               1               0               0\n",
       "2                    0               1               0               0\n",
       "3                    1               0               0               0\n",
       "4                    0               1               0               0"
      ]
     },
     "execution_count": 10,
     "metadata": {},
     "output_type": "execute_result"
    }
   ],
   "source": [
    "dummy_var1 = pd.get_dummies( Housing3['Condition of the House'], drop_first = True, prefix = 'Condition')\n",
    "dummy_var1.head()"
   ]
  },
  {
   "cell_type": "code",
   "execution_count": 11,
   "metadata": {
    "colab": {
     "base_uri": "https://localhost:8080/",
     "height": 119
    },
    "colab_type": "code",
    "executionInfo": {
     "elapsed": 1397,
     "status": "ok",
     "timestamp": 1569226004888,
     "user": {
      "displayName": "Sharoon Saxena",
      "photoUrl": "https://lh3.googleusercontent.com/a-/AAuE7mA06b2KEfgpAIC1tQCip2ka2KqXrCY2GfWW9Fww=s64",
      "userId": "01167841530696023488"
     },
     "user_tz": -330
    },
    "id": "1M-tHZi-n2yO",
    "outputId": "8c0453f1-0138-4b88-a2b1-e2237981e5a8"
   },
   "outputs": [
    {
     "data": {
      "text/plain": [
       "Fair         14028\n",
       "Good          5678\n",
       "Excellent     1701\n",
       "Okay           172\n",
       "Bad             30\n",
       "Name: Condition of the House, dtype: int64"
      ]
     },
     "execution_count": 11,
     "metadata": {},
     "output_type": "execute_result"
    }
   ],
   "source": [
    "label_encoded = Housing3['Condition of the House']\n",
    "label_encoded.value_counts()"
   ]
  },
  {
   "cell_type": "code",
   "execution_count": 12,
   "metadata": {
    "colab": {
     "base_uri": "https://localhost:8080/",
     "height": 119
    },
    "colab_type": "code",
    "executionInfo": {
     "elapsed": 1125,
     "status": "ok",
     "timestamp": 1569226007879,
     "user": {
      "displayName": "Sharoon Saxena",
      "photoUrl": "https://lh3.googleusercontent.com/a-/AAuE7mA06b2KEfgpAIC1tQCip2ka2KqXrCY2GfWW9Fww=s64",
      "userId": "01167841530696023488"
     },
     "user_tz": -330
    },
    "id": "m4HaUmrlvjvA",
    "outputId": "98237311-5175-4f95-bf75-7271e40e188e"
   },
   "outputs": [
    {
     "data": {
      "text/plain": [
       "3    14028\n",
       "4     5678\n",
       "5     1701\n",
       "2      172\n",
       "1       30\n",
       "Name: Condition of the House, dtype: int64"
      ]
     },
     "execution_count": 12,
     "metadata": {},
     "output_type": "execute_result"
    }
   ],
   "source": [
    "label_encoded = label_encoded.map({ 'Bad':1,\n",
    "                                    'Okay':2,\n",
    "                                    'Fair':3,\n",
    "                                    'Good':4,\n",
    "                                    'Excellent':5})\n",
    "label_encoded.value_counts()"
   ]
  },
  {
   "cell_type": "code",
   "execution_count": 13,
   "metadata": {
    "colab": {
     "base_uri": "https://localhost:8080/",
     "height": 34
    },
    "colab_type": "code",
    "executionInfo": {
     "elapsed": 808,
     "status": "ok",
     "timestamp": 1569226009522,
     "user": {
      "displayName": "Sharoon Saxena",
      "photoUrl": "https://lh3.googleusercontent.com/a-/AAuE7mA06b2KEfgpAIC1tQCip2ka2KqXrCY2GfWW9Fww=s64",
      "userId": "01167841530696023488"
     },
     "user_tz": -330
    },
    "id": "co4joDr7wwIH",
    "outputId": "1ee7aed9-dd3e-4c05-d22c-309e4ec2762d"
   },
   "outputs": [
    {
     "data": {
      "text/plain": [
       "116"
      ]
     },
     "execution_count": 13,
     "metadata": {},
     "output_type": "execute_result"
    }
   ],
   "source": [
    "len(Housing3['Age of House (in Years)'].unique())"
   ]
  },
  {
   "cell_type": "code",
   "execution_count": 14,
   "metadata": {
    "colab": {
     "base_uri": "https://localhost:8080/",
     "height": 34
    },
    "colab_type": "code",
    "executionInfo": {
     "elapsed": 1224,
     "status": "ok",
     "timestamp": 1569226015254,
     "user": {
      "displayName": "Sharoon Saxena",
      "photoUrl": "https://lh3.googleusercontent.com/a-/AAuE7mA06b2KEfgpAIC1tQCip2ka2KqXrCY2GfWW9Fww=s64",
      "userId": "01167841530696023488"
     },
     "user_tz": -330
    },
    "id": "5cncK0EQfX9P",
    "outputId": "4fc5ab4e-4fc8-41a1-fb80-d6121a06250a"
   },
   "outputs": [
    {
     "data": {
      "text/plain": [
       "118"
      ]
     },
     "execution_count": 14,
     "metadata": {},
     "output_type": "execute_result"
    }
   ],
   "source": [
    "Housing3['Age of House (in Years)'].max()"
   ]
  },
  {
   "cell_type": "code",
   "execution_count": 15,
   "metadata": {
    "colab": {
     "base_uri": "https://localhost:8080/",
     "height": 34
    },
    "colab_type": "code",
    "executionInfo": {
     "elapsed": 1050,
     "status": "ok",
     "timestamp": 1569226016615,
     "user": {
      "displayName": "Sharoon Saxena",
      "photoUrl": "https://lh3.googleusercontent.com/a-/AAuE7mA06b2KEfgpAIC1tQCip2ka2KqXrCY2GfWW9Fww=s64",
      "userId": "01167841530696023488"
     },
     "user_tz": -330
    },
    "id": "aWpdUoldfX1i",
    "outputId": "aed16c90-f8e9-499f-84a2-fcce3a28fda0"
   },
   "outputs": [
    {
     "data": {
      "text/plain": [
       "3"
      ]
     },
     "execution_count": 15,
     "metadata": {},
     "output_type": "execute_result"
    }
   ],
   "source": [
    "Housing3['Age of House (in Years)'].min()"
   ]
  },
  {
   "cell_type": "code",
   "execution_count": 16,
   "metadata": {
    "colab": {},
    "colab_type": "code",
    "id": "1QufAYTAGOtB"
   },
   "outputs": [],
   "source": [
    "def age_of_house(x):\n",
    "  if x < 10:\n",
    "    x = 'new'\n",
    "  elif x < 50:\n",
    "    x = 'old'\n",
    "  else:\n",
    "    x = 'very old'\n",
    "  return x"
   ]
  },
  {
   "cell_type": "code",
   "execution_count": 17,
   "metadata": {
    "colab": {
     "base_uri": "https://localhost:8080/",
     "height": 34
    },
    "colab_type": "code",
    "executionInfo": {
     "elapsed": 998,
     "status": "ok",
     "timestamp": 1569226018161,
     "user": {
      "displayName": "Sharoon Saxena",
      "photoUrl": "https://lh3.googleusercontent.com/a-/AAuE7mA06b2KEfgpAIC1tQCip2ka2KqXrCY2GfWW9Fww=s64",
      "userId": "01167841530696023488"
     },
     "user_tz": -330
    },
    "id": "GILRraFXcIpU",
    "outputId": "d0e22a7d-7f9c-4edb-f9cb-c7e8ff3ed8ac"
   },
   "outputs": [
    {
     "data": {
      "text/plain": [
       "array(['very old', 'old', 'new'], dtype=object)"
      ]
     },
     "execution_count": 17,
     "metadata": {},
     "output_type": "execute_result"
    }
   ],
   "source": [
    "cat_house_age = Housing3['Age of House (in Years)'].map(age_of_house)\n",
    "cat_house_age.unique()"
   ]
  },
  {
   "cell_type": "code",
   "execution_count": 18,
   "metadata": {
    "colab": {
     "base_uri": "https://localhost:8080/",
     "height": 34
    },
    "colab_type": "code",
    "executionInfo": {
     "elapsed": 715,
     "status": "ok",
     "timestamp": 1569226019533,
     "user": {
      "displayName": "Sharoon Saxena",
      "photoUrl": "https://lh3.googleusercontent.com/a-/AAuE7mA06b2KEfgpAIC1tQCip2ka2KqXrCY2GfWW9Fww=s64",
      "userId": "01167841530696023488"
     },
     "user_tz": -330
    },
    "id": "10_-531_tmrW",
    "outputId": "0b3ea799-a2e8-4b2f-b414-aa82b14b126d"
   },
   "outputs": [
    {
     "data": {
      "text/plain": [
       "array(['Fair', 'Excellent', 'Good', 'Bad', 'Okay'], dtype=object)"
      ]
     },
     "execution_count": 18,
     "metadata": {},
     "output_type": "execute_result"
    }
   ],
   "source": [
    "Housing3['Condition of the House'].unique()"
   ]
  },
  {
   "cell_type": "code",
   "execution_count": 19,
   "metadata": {
    "colab": {
     "base_uri": "https://localhost:8080/",
     "height": 119
    },
    "colab_type": "code",
    "executionInfo": {
     "elapsed": 984,
     "status": "ok",
     "timestamp": 1569226020912,
     "user": {
      "displayName": "Sharoon Saxena",
      "photoUrl": "https://lh3.googleusercontent.com/a-/AAuE7mA06b2KEfgpAIC1tQCip2ka2KqXrCY2GfWW9Fww=s64",
      "userId": "01167841530696023488"
     },
     "user_tz": -330
    },
    "id": "_el5ZM2My8Vg",
    "outputId": "a76e1d3f-3895-40c5-c474-47a41e6a39b8"
   },
   "outputs": [
    {
     "data": {
      "text/plain": [
       "Fair         14028\n",
       "Good          5678\n",
       "Excellent     1701\n",
       "Okay           172\n",
       "Bad             30\n",
       "Name: Condition of the House, dtype: int64"
      ]
     },
     "execution_count": 19,
     "metadata": {},
     "output_type": "execute_result"
    }
   ],
   "source": [
    "Housing3['Condition of the House'].value_counts()"
   ]
  },
  {
   "cell_type": "code",
   "execution_count": 20,
   "metadata": {
    "colab": {},
    "colab_type": "code",
    "id": "0PLR9lmlzBUV"
   },
   "outputs": [],
   "source": [
    "mean = []\n",
    "\n",
    "for i in Housing3['Condition of the House'].unique():\n",
    "  mean.append(Housing3['Sale Price'][Housing3['Condition of the House'] == i].mean())"
   ]
  },
  {
   "cell_type": "code",
   "execution_count": 21,
   "metadata": {
    "colab": {
     "base_uri": "https://localhost:8080/",
     "height": 750
    },
    "colab_type": "code",
    "executionInfo": {
     "elapsed": 1633,
     "status": "ok",
     "timestamp": 1569226023976,
     "user": {
      "displayName": "Sharoon Saxena",
      "photoUrl": "https://lh3.googleusercontent.com/a-/AAuE7mA06b2KEfgpAIC1tQCip2ka2KqXrCY2GfWW9Fww=s64",
      "userId": "01167841530696023488"
     },
     "user_tz": -330
    },
    "id": "yTL9rIUMzmJP",
    "outputId": "25ce788d-1c6b-4326-b364-36e12eb955e5"
   },
   "outputs": [
    {
     "data": {
      "text/plain": [
       "Text(0, 0.5, 'mean sale Prie')"
      ]
     },
     "execution_count": 21,
     "metadata": {},
     "output_type": "execute_result"
    },
    {
     "data": {
      "image/png": "[encoded data removed]",
      "text/plain": [
       "<Figure size 840x840 with 1 Axes>"
      ]
     },
     "metadata": {},
     "output_type": "display_data"
    }
   ],
   "source": [
    "plt.figure( figsize = (7,7), dpi = 120)\n",
    "\n",
    "plt.bar( Housing3['Condition of the House'].unique(), mean)\n",
    "plt.xlabel('Condition of the House')\n",
    "plt.ylabel(\"mean sale Prie\")"
   ]
  },
  {
   "cell_type": "code",
   "execution_count": 22,
   "metadata": {
    "colab": {},
    "colab_type": "code",
    "id": "MYtqcb9u2laL"
   },
   "outputs": [],
   "source": [
    "mapping = {'Excellent':'Excellent',\n",
    "           'Fair':'Good',\n",
    "           'Good':'Good',\n",
    "           'Okay':'Okay',\n",
    "           'Bad':'Okay'}\n",
    "Housing3['Condition of the House'] = Housing3['Condition of the House'].map(mapping)"
   ]
  },
  {
   "cell_type": "code",
   "execution_count": 23,
   "metadata": {
    "colab": {},
    "colab_type": "code",
    "id": "CEjldzOHDdmN"
   },
   "outputs": [],
   "source": [
    "mean = []\n",
    "\n",
    "for i in Housing3['Condition of the House'].unique():\n",
    "  mean.append(Housing3['Sale Price'][Housing3['Condition of the House'] == i].mean())"
   ]
  },
  {
   "cell_type": "code",
   "execution_count": 24,
   "metadata": {
    "colab": {
     "base_uri": "https://localhost:8080/",
     "height": 750
    },
    "colab_type": "code",
    "executionInfo": {
     "elapsed": 2207,
     "status": "ok",
     "timestamp": 1569226026594,
     "user": {
      "displayName": "Sharoon Saxena",
      "photoUrl": "https://lh3.googleusercontent.com/a-/AAuE7mA06b2KEfgpAIC1tQCip2ka2KqXrCY2GfWW9Fww=s64",
      "userId": "01167841530696023488"
     },
     "user_tz": -330
    },
    "id": "kw73NEqxDkOS",
    "outputId": "d5e19f33-bdd9-4012-d3b2-e040206c7085"
   },
   "outputs": [
    {
     "data": {
      "text/plain": [
       "Text(0, 0.5, 'mean sale Prie')"
      ]
     },
     "execution_count": 24,
     "metadata": {},
     "output_type": "execute_result"
    },
    {
     "data": {
      "image/png": "[encoded data removed]",
      "text/plain": [
       "<Figure size 840x840 with 1 Axes>"
      ]
     },
     "metadata": {},
     "output_type": "display_data"
    }
   ],
   "source": [
    "plt.figure( figsize = (7,7), dpi = 120)\n",
    "\n",
    "plt.bar( Housing3['Condition of the House'].unique(), mean)\n",
    "plt.xlabel('Condition of the House')\n",
    "plt.ylabel(\"mean sale Prie\")"
   ]
  },
  {
   "cell_type": "code",
   "execution_count": 25,
   "metadata": {
    "colab": {
     "base_uri": "https://localhost:8080/",
     "height": 119
    },
    "colab_type": "code",
    "executionInfo": {
     "elapsed": 1549,
     "status": "ok",
     "timestamp": 1569226026595,
     "user": {
      "displayName": "Sharoon Saxena",
      "photoUrl": "https://lh3.googleusercontent.com/a-/AAuE7mA06b2KEfgpAIC1tQCip2ka2KqXrCY2GfWW9Fww=s64",
      "userId": "01167841530696023488"
     },
     "user_tz": -330
    },
    "id": "emYY588uDk9-",
    "outputId": "55177862-a494-47a5-ff4c-a57334c73df9"
   },
   "outputs": [
    {
     "data": {
      "text/plain": [
       "0     14 October 2017\n",
       "1    14 December 2017\n",
       "2    15 February 2016\n",
       "3    14 December 2017\n",
       "4    15 February 2016\n",
       "Name: Date House was Sold, dtype: object"
      ]
     },
     "execution_count": 25,
     "metadata": {},
     "output_type": "execute_result"
    }
   ],
   "source": [
    "Housing3['Date House was Sold'].head()"
   ]
  },
  {
   "cell_type": "code",
   "execution_count": 26,
   "metadata": {
    "colab": {
     "base_uri": "https://localhost:8080/",
     "height": 204
    },
    "colab_type": "code",
    "executionInfo": {
     "elapsed": 3354,
     "status": "ok",
     "timestamp": 1569226028979,
     "user": {
      "displayName": "Sharoon Saxena",
      "photoUrl": "https://lh3.googleusercontent.com/a-/AAuE7mA06b2KEfgpAIC1tQCip2ka2KqXrCY2GfWW9Fww=s64",
      "userId": "01167841530696023488"
     },
     "user_tz": -330
    },
    "id": "-UH8CYVGOd6n",
    "outputId": "51e32b4c-9053-4e12-fc53-87fde54c4b2d"
   },
   "outputs": [
    {
     "ename": "AttributeError",
     "evalue": "'DatetimeIndex' object has no attribute 'weekday_name'",
     "output_type": "error",
     "traceback": [
      "\u001b[1;31m---------------------------------------------------------------------------\u001b[0m",
      "\u001b[1;31mAttributeError\u001b[0m                            Traceback (most recent call last)",
      "\u001b[1;32m~\\AppData\\Local\\Temp/ipykernel_31944/1929263586.py\u001b[0m in \u001b[0;36m<module>\u001b[1;34m\u001b[0m\n\u001b[0;32m      2\u001b[0m \u001b[0mHousing3\u001b[0m\u001b[1;33m[\u001b[0m\u001b[1;34m'year_sold'\u001b[0m\u001b[1;33m]\u001b[0m \u001b[1;33m=\u001b[0m \u001b[0mtime\u001b[0m\u001b[1;33m.\u001b[0m\u001b[0myear\u001b[0m\u001b[1;33m\u001b[0m\u001b[1;33m\u001b[0m\u001b[0m\n\u001b[0;32m      3\u001b[0m \u001b[0mHousing3\u001b[0m\u001b[1;33m[\u001b[0m\u001b[1;34m\"month_sold\"\u001b[0m\u001b[1;33m]\u001b[0m \u001b[1;33m=\u001b[0m \u001b[0mtime\u001b[0m\u001b[1;33m.\u001b[0m\u001b[0mmonth\u001b[0m\u001b[1;33m\u001b[0m\u001b[1;33m\u001b[0m\u001b[0m\n\u001b[1;32m----> 4\u001b[1;33m \u001b[0mHousing3\u001b[0m\u001b[1;33m[\u001b[0m\u001b[1;34m'weekday_sold'\u001b[0m\u001b[1;33m]\u001b[0m \u001b[1;33m=\u001b[0m \u001b[0mtime\u001b[0m\u001b[1;33m.\u001b[0m\u001b[0mweekday_name\u001b[0m\u001b[1;33m\u001b[0m\u001b[1;33m\u001b[0m\u001b[0m\n\u001b[0m\u001b[0;32m      5\u001b[0m \u001b[0mHousing3\u001b[0m\u001b[1;33m[\u001b[0m\u001b[1;34m'date_sold'\u001b[0m\u001b[1;33m]\u001b[0m \u001b[1;33m=\u001b[0m \u001b[0mtime\u001b[0m\u001b[1;33m.\u001b[0m\u001b[0mdays_in_month\u001b[0m\u001b[1;33m\u001b[0m\u001b[1;33m\u001b[0m\u001b[0m\n\u001b[0;32m      6\u001b[0m \u001b[1;33m\u001b[0m\u001b[0m\n",
      "\u001b[1;31mAttributeError\u001b[0m: 'DatetimeIndex' object has no attribute 'weekday_name'"
     ]
    }
   ],
   "source": [
    "time = pd.DatetimeIndex(Housing3['Date House was Sold'])\n",
    "Housing3['year_sold'] = time.year\n",
    "Housing3[\"month_sold\"] = time.month\n",
    "Housing3['weekday_sold'] = time.weekday_name\n",
    "Housing3['date_sold'] = time.days_in_month\n",
    "\n",
    "Housing3[['year_sold','month_sold','weekday_sold','date_sold']].head()"
   ]
  },
  {
   "cell_type": "code",
   "execution_count": null,
   "metadata": {
    "colab": {
     "base_uri": "https://localhost:8080/",
     "height": 80
    },
    "colab_type": "code",
    "executionInfo": {
     "elapsed": 2941,
     "status": "ok",
     "timestamp": 1569226028980,
     "user": {
      "displayName": "Sharoon Saxena",
      "photoUrl": "https://lh3.googleusercontent.com/a-/AAuE7mA06b2KEfgpAIC1tQCip2ka2KqXrCY2GfWW9Fww=s64",
      "userId": "01167841530696023488"
     },
     "user_tz": -330
    },
    "id": "gOREEIsnPY9w",
    "outputId": "2905d0f3-8a02-4cb4-d3d3-a34fc45b0144"
   },
   "outputs": [],
   "source": [
    "month_sale = pd.pivot_table(Housing3, values = 'Sale Price',\n",
    "               columns = 'month_sold',\n",
    "                aggfunc = 'mean')\n",
    "\n",
    "month_sale"
   ]
  },
  {
   "cell_type": "code",
   "execution_count": null,
   "metadata": {
    "colab": {
     "base_uri": "https://localhost:8080/",
     "height": 568
    },
    "colab_type": "code",
    "executionInfo": {
     "elapsed": 2433,
     "status": "ok",
     "timestamp": 1569226028980,
     "user": {
      "displayName": "Sharoon Saxena",
      "photoUrl": "https://lh3.googleusercontent.com/a-/AAuE7mA06b2KEfgpAIC1tQCip2ka2KqXrCY2GfWW9Fww=s64",
      "userId": "01167841530696023488"
     },
     "user_tz": -330
    },
    "id": "m4B32HeXfcgE",
    "outputId": "e1abc144-337d-4d65-b24a-223acdf6c33b"
   },
   "outputs": [],
   "source": [
    "plt.figure( figsize = (5,5), dpi = 120)\n",
    "plt.bar(month_sale.columns, month_sale.iloc[0])\n",
    "plt.xlabel(\"month\")\n",
    "plt.ylabel('mean_sale')"
   ]
  },
  {
   "cell_type": "code",
   "execution_count": null,
   "metadata": {
    "colab": {
     "base_uri": "https://localhost:8080/",
     "height": 80
    },
    "colab_type": "code",
    "executionInfo": {
     "elapsed": 1894,
     "status": "ok",
     "timestamp": 1569226028981,
     "user": {
      "displayName": "Sharoon Saxena",
      "photoUrl": "https://lh3.googleusercontent.com/a-/AAuE7mA06b2KEfgpAIC1tQCip2ka2KqXrCY2GfWW9Fww=s64",
      "userId": "01167841530696023488"
     },
     "user_tz": -330
    },
    "id": "fvpHbEb-ggU4",
    "outputId": "eedde3a8-efcd-47be-89b3-0ed6a39ddc3a"
   },
   "outputs": [],
   "source": [
    "weekday_sale = pd.pivot_table(Housing3, values = 'Sale Price',\n",
    "               columns = 'weekday_sold',\n",
    "                aggfunc = 'mean')\n",
    "\n",
    "weekday_sale"
   ]
  },
  {
   "cell_type": "code",
   "execution_count": null,
   "metadata": {
    "colab": {
     "base_uri": "https://localhost:8080/",
     "height": 568
    },
    "colab_type": "code",
    "executionInfo": {
     "elapsed": 2169,
     "status": "ok",
     "timestamp": 1569226029823,
     "user": {
      "displayName": "Sharoon Saxena",
      "photoUrl": "https://lh3.googleusercontent.com/a-/AAuE7mA06b2KEfgpAIC1tQCip2ka2KqXrCY2GfWW9Fww=s64",
      "userId": "01167841530696023488"
     },
     "user_tz": -330
    },
    "id": "Ov3QgTC2ggU-",
    "outputId": "b676e77f-6429-4e4c-b990-af767344008e"
   },
   "outputs": [],
   "source": [
    "plt.figure( figsize = (5,5), dpi = 120)\n",
    "plt.bar(weekday_sale.columns, weekday_sale.iloc[0])\n",
    "plt.xlabel(\"Weekday\")\n",
    "plt.ylabel('mean_sale')"
   ]
  },
  {
   "cell_type": "code",
   "execution_count": null,
   "metadata": {
    "colab": {
     "base_uri": "https://localhost:8080/",
     "height": 80
    },
    "colab_type": "code",
    "executionInfo": {
     "elapsed": 786,
     "status": "ok",
     "timestamp": 1569226030948,
     "user": {
      "displayName": "Sharoon Saxena",
      "photoUrl": "https://lh3.googleusercontent.com/a-/AAuE7mA06b2KEfgpAIC1tQCip2ka2KqXrCY2GfWW9Fww=s64",
      "userId": "01167841530696023488"
     },
     "user_tz": -330
    },
    "id": "rmSxBeiIgwxn",
    "outputId": "6a3667d3-68d1-4a85-9ce3-19c715c42cb4"
   },
   "outputs": [],
   "source": [
    "date_sale = pd.pivot_table(Housing3, values = 'Sale Price',\n",
    "               columns = 'date_sold',\n",
    "                aggfunc = 'mean')\n",
    "\n",
    "date_sale"
   ]
  },
  {
   "cell_type": "code",
   "execution_count": null,
   "metadata": {
    "colab": {
     "base_uri": "https://localhost:8080/",
     "height": 568
    },
    "colab_type": "code",
    "executionInfo": {
     "elapsed": 1671,
     "status": "ok",
     "timestamp": 1569226032530,
     "user": {
      "displayName": "Sharoon Saxena",
      "photoUrl": "https://lh3.googleusercontent.com/a-/AAuE7mA06b2KEfgpAIC1tQCip2ka2KqXrCY2GfWW9Fww=s64",
      "userId": "01167841530696023488"
     },
     "user_tz": -330
    },
    "id": "o0BYM1MZgwxs",
    "outputId": "0d257bb3-6421-4243-dd3c-0f7c333f9a2f"
   },
   "outputs": [],
   "source": [
    "plt.figure( figsize = (5,5), dpi = 120)\n",
    "plt.bar(weekday_sale.columns, weekday_sale.iloc[0])\n",
    "plt.xlabel(\"Date of month\")\n",
    "plt.ylabel('mean_sale')"
   ]
  },
  {
   "cell_type": "code",
   "execution_count": null,
   "metadata": {
    "colab": {
     "base_uri": "https://localhost:8080/",
     "height": 478
    },
    "colab_type": "code",
    "executionInfo": {
     "elapsed": 1505,
     "status": "ok",
     "timestamp": 1569226033287,
     "user": {
      "displayName": "Sharoon Saxena",
      "photoUrl": "https://lh3.googleusercontent.com/a-/AAuE7mA06b2KEfgpAIC1tQCip2ka2KqXrCY2GfWW9Fww=s64",
      "userId": "01167841530696023488"
     },
     "user_tz": -330
    },
    "id": "-y_fEeGzL1Hn",
    "outputId": "1fadf254-4fea-48b5-9dc9-e8c1ad7e1dfd"
   },
   "outputs": [],
   "source": [
    "freq_condition = Housing3['Condition of the House'].value_counts()\n",
    "freq_condition = freq_condition/freq_condition.sum()\n",
    "\n",
    "plt.figure( figsize = (5,5), dpi = 100)\n",
    "plt.bar(freq_condition.index, freq_condition)\n",
    "plt.xlabel('Condition of the House')\n",
    "plt.ylabel('frequency ratio')"
   ]
  },
  {
   "cell_type": "code",
   "execution_count": null,
   "metadata": {
    "colab": {
     "base_uri": "https://localhost:8080/",
     "height": 119
    },
    "colab_type": "code",
    "executionInfo": {
     "elapsed": 1740,
     "status": "ok",
     "timestamp": 1569226035128,
     "user": {
      "displayName": "Sharoon Saxena",
      "photoUrl": "https://lh3.googleusercontent.com/a-/AAuE7mA06b2KEfgpAIC1tQCip2ka2KqXrCY2GfWW9Fww=s64",
      "userId": "01167841530696023488"
     },
     "user_tz": -330
    },
    "id": "Vn4B4vHVL1Ej",
    "outputId": "37bc8633-797b-4cf2-833a-f14d718c262b"
   },
   "outputs": [],
   "source": [
    "Housing3['freq_cond'] = 0\n",
    "\n",
    "for i in Housing3['Condition of the House'].unique():\n",
    "  Housing3['freq_cond'][Housing3['Condition of the House']==i] = freq_condition.loc[i]\n",
    "\n",
    "Housing3['freq_cond'].head()"
   ]
  },
  {
   "cell_type": "code",
   "execution_count": null,
   "metadata": {
    "colab": {},
    "colab_type": "code",
    "id": "xwhlws12L1A3"
   },
   "outputs": [],
   "source": []
  },
  {
   "cell_type": "code",
   "execution_count": null,
   "metadata": {
    "colab": {
     "base_uri": "https://localhost:8080/",
     "height": 187
    },
    "colab_type": "code",
    "executionInfo": {
     "elapsed": 1090,
     "status": "ok",
     "timestamp": 1569226037081,
     "user": {
      "displayName": "Sharoon Saxena",
      "photoUrl": "https://lh3.googleusercontent.com/a-/AAuE7mA06b2KEfgpAIC1tQCip2ka2KqXrCY2GfWW9Fww=s64",
      "userId": "01167841530696023488"
     },
     "user_tz": -330
    },
    "id": "IJZTfAUXg7CH",
    "outputId": "c8c2b64b-298f-4340-84cf-12db589c7d30"
   },
   "outputs": [],
   "source": [
    "Housing3.columns"
   ]
  },
  {
   "cell_type": "code",
   "execution_count": null,
   "metadata": {
    "colab": {
     "base_uri": "https://localhost:8080/",
     "height": 34
    },
    "colab_type": "code",
    "executionInfo": {
     "elapsed": 1542,
     "status": "ok",
     "timestamp": 1569226110901,
     "user": {
      "displayName": "Sharoon Saxena",
      "photoUrl": "https://lh3.googleusercontent.com/a-/AAuE7mA06b2KEfgpAIC1tQCip2ka2KqXrCY2GfWW9Fww=s64",
      "userId": "01167841530696023488"
     },
     "user_tz": -330
    },
    "id": "5OBhBKcqH5s2",
    "outputId": "3a48bb7a-2789-449e-9b19-6344d90b8c81"
   },
   "outputs": [],
   "source": [
    "def luxury_home(row):\n",
    "  count = 0\n",
    "  if row[0] =='Yes':\n",
    "    count = count+1\n",
    "  if row[1] in ['Excellent','Good']:\n",
    "    count = count+1\n",
    "  if row[2] >= 8:\n",
    "    count = count+1  \n",
    "  if count >= 2 :\n",
    "    return 'Yes'\n",
    "  else:\n",
    "    return \"No\"\n",
    "  \n",
    "Housing3['luxury_home'] = Housing3[['Waterfront View','Condition of the House','Overall Grade']].apply(luxury_home, axis = 1)\n",
    "\n",
    "Housing3['luxury_home'].unique()"
   ]
  },
  {
   "cell_type": "code",
   "execution_count": null,
   "metadata": {
    "colab": {
     "base_uri": "https://localhost:8080/",
     "height": 68
    },
    "colab_type": "code",
    "executionInfo": {
     "elapsed": 741,
     "status": "ok",
     "timestamp": 1569226112332,
     "user": {
      "displayName": "Sharoon Saxena",
      "photoUrl": "https://lh3.googleusercontent.com/a-/AAuE7mA06b2KEfgpAIC1tQCip2ka2KqXrCY2GfWW9Fww=s64",
      "userId": "01167841530696023488"
     },
     "user_tz": -330
    },
    "id": "aOVqDk6UyYBt",
    "outputId": "6f4b58fe-1d5c-4010-85e4-58cc97217fdc"
   },
   "outputs": [],
   "source": [
    "Housing3['luxury_home'].value_counts()"
   ]
  },
  {
   "cell_type": "code",
   "execution_count": null,
   "metadata": {
    "colab": {
     "base_uri": "https://localhost:8080/",
     "height": 80
    },
    "colab_type": "code",
    "executionInfo": {
     "elapsed": 1263,
     "status": "ok",
     "timestamp": 1569226118064,
     "user": {
      "displayName": "Sharoon Saxena",
      "photoUrl": "https://lh3.googleusercontent.com/a-/AAuE7mA06b2KEfgpAIC1tQCip2ka2KqXrCY2GfWW9Fww=s64",
      "userId": "01167841530696023488"
     },
     "user_tz": -330
    },
    "id": "wCvTLc8Hyu8x",
    "outputId": "34e2dbb3-be16-48aa-f533-44eff4f22eba"
   },
   "outputs": [],
   "source": [
    "luxury = Housing3.pivot_table(values = \"Sale Price\", columns = 'luxury_home', aggfunc = 'mean' )\n",
    "luxury"
   ]
  },
  {
   "cell_type": "code",
   "execution_count": null,
   "metadata": {
    "colab": {
     "base_uri": "https://localhost:8080/",
     "height": 568
    },
    "colab_type": "code",
    "executionInfo": {
     "elapsed": 1568,
     "status": "ok",
     "timestamp": 1569226121956,
     "user": {
      "displayName": "Sharoon Saxena",
      "photoUrl": "https://lh3.googleusercontent.com/a-/AAuE7mA06b2KEfgpAIC1tQCip2ka2KqXrCY2GfWW9Fww=s64",
      "userId": "01167841530696023488"
     },
     "user_tz": -330
    },
    "id": "CTVRdaxKzZnb",
    "outputId": "d3486384-76e1-41a7-ddc2-596fca96ef36"
   },
   "outputs": [],
   "source": [
    "plt.figure(figsize = (5,5), dpi = 120)\n",
    "plt.bar(luxury.columns, luxury.iloc[0])\n",
    "plt.xlabel('Luxury home?')\n",
    "plt.ylabel(\" Mean Sale Price\")\n"
   ]
  },
  {
   "cell_type": "code",
   "execution_count": null,
   "metadata": {
    "colab": {
     "base_uri": "https://localhost:8080/",
     "height": 51
    },
    "colab_type": "code",
    "executionInfo": {
     "elapsed": 1235,
     "status": "ok",
     "timestamp": 1569226142845,
     "user": {
      "displayName": "Sharoon Saxena",
      "photoUrl": "https://lh3.googleusercontent.com/a-/AAuE7mA06b2KEfgpAIC1tQCip2ka2KqXrCY2GfWW9Fww=s64",
      "userId": "01167841530696023488"
     },
     "user_tz": -330
    },
    "id": "DZAB53mM0D6f",
    "outputId": "17f86fdb-de69-4ecd-8dff-c9192223c2a1"
   },
   "outputs": [],
   "source": [
    "import os\n",
    "import multiprocessing\n",
    "\n",
    "mem_bytes = os.sysconf('SC_PAGE_SIZE') * os.sysconf('SC_PHYS_PAGES')  # e.g. 4015976448\n",
    "mem_gib = mem_bytes/(1024.**3)  # e.g. 3.74\n",
    "print(\"RAM: %f GB\" % mem_gib)\n",
    "print(\"CORES: %d\" % multiprocessing.cpu_count())"
   ]
  },
  {
   "cell_type": "code",
   "execution_count": null,
   "metadata": {
    "colab": {},
    "colab_type": "code",
    "id": "v8fThdaa80DE"
   },
   "outputs": [],
   "source": []
  }
 ],
 "metadata": {
  "colab": {
   "name": "Feature engineering.ipynb",
   "provenance": []
  },
  "kernelspec": {
   "display_name": "Python 3 (ipykernel)",
   "language": "python",
   "name": "python3"
  },
  "language_info": {
   "codemirror_mode": {
    "name": "ipython",
    "version": 3
   },
   "file_extension": ".py",
   "mimetype": "text/x-python",
   "name": "python",
   "nbconvert_exporter": "python",
   "pygments_lexer": "ipython3",
   "version": "3.9.7"
  }
 },
 "nbformat": 4,
 "nbformat_minor": 1
}
